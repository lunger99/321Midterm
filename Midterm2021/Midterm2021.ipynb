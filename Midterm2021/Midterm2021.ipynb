{
 "cells": [
  {
   "cell_type": "markdown",
   "metadata": {},
   "source": [
    "# PHYS 321 Midterm 2021"
   ]
  },
  {
   "cell_type": "markdown",
   "metadata": {},
   "source": [
    "This midterm exam is an open-book, open-resource exam. However, you may not collaborate with anyone. Please send clarification questions and hint requests to me at [adrian.liu@mcgill.ca](mailto:adrian.liu2@mcgill.ca). Submission is via Github (more details below). The exam is due at 11:59:59 Eastern on February 25th, 2020.\n",
    "\n",
    "You may copy and paste code from your previous assignments, but __you must cite your sources__. E.g., if you want to use a function that you wrote in Coding Lab 02, please include the comment \"this function was copied from Coding Lab 02\"\n",
    "\n",
    "For questions that are more algebraic or conceptual, you may either: 1) type your answer here, 2) do your work on paper and scan it, or 3) write up your answer in a separate pdf document. If you decide to go with option 2 or 3 on any particular question, be sure to let us know which document to look at. (Or with option 2 you can also embed the image file in the notebook itself)."
   ]
  },
  {
   "cell_type": "markdown",
   "metadata": {},
   "source": [
    "## Question 1"
   ]
  },
  {
   "cell_type": "markdown",
   "metadata": {},
   "source": [
    "Place all of the midterm files in a folder within your Github repo. Then:"
   ]
  },
  {
   "cell_type": "markdown",
   "metadata": {},
   "source": [
    "__a)__ Perform an initial commit locally and push to your Github repo. Write down the commands you used below."
   ]
  },
  {
   "cell_type": "code",
   "execution_count": 1,
   "metadata": {},
   "outputs": [],
   "source": [
    "#I made a new repo, so: \n",
    "\n",
    "#git clone {url}\n",
    "#git status\n",
    "#git add Midterm2021.ipynb\n",
    "#git commit -m \"First commit\" \n",
    "#git push "
   ]
  },
  {
   "cell_type": "markdown",
   "metadata": {},
   "source": [
    "__b)__ Create a file named ``secret_treasure.txt``. Commit it. Now create a new branch. Write down the commands that you used."
   ]
  },
  {
   "cell_type": "code",
   "execution_count": 2,
   "metadata": {},
   "outputs": [],
   "source": [
    "#type nul > secret_treasure.txt\n",
    "#git add secret_treasure.txt\n",
    "#git commit -m \"adding txt\"\n",
    "\n",
    "#git checkout -b NewBranch"
   ]
  },
  {
   "cell_type": "markdown",
   "metadata": {},
   "source": [
    "__c)__ Add the text ``I'm a Bayesian`` to the file in this new branch. In your old branch, add the text ``I'm a Frequentist``. Write down the commands that you used."
   ]
  },
  {
   "cell_type": "code",
   "execution_count": 3,
   "metadata": {},
   "outputs": [],
   "source": [
    "#(Wrote I'm a bayesian)\n",
    "#git add secret_treasure.txt\n",
    "#git commit -m \"bayesian\"\n",
    "#git checkout main\n",
    "#(Wrote I'm a Freuqentist)\n",
    "# git add secret_treasure.txt\n",
    "#git commit -m \"frequentist\""
   ]
  },
  {
   "cell_type": "markdown",
   "metadata": {},
   "source": [
    "__d)__ Merge the changes from your new branch to your old branch. If you get a merge conflict, deal with it in whatever way you want. Write down the commands that you used."
   ]
  },
  {
   "cell_type": "code",
   "execution_count": 4,
   "metadata": {},
   "outputs": [],
   "source": [
    "# git merge NewBranch\n",
    "# (fix manually on text editor to keep both messages)\n",
    "#git add secret_treasure.txt\n",
    "#git commit -m \"merge\"\n",
    "#git push"
   ]
  },
  {
   "cell_type": "markdown",
   "metadata": {},
   "source": [
    "Push your local changes to your Github repo to complete this problem."
   ]
  },
  {
   "cell_type": "markdown",
   "metadata": {},
   "source": [
    "## Question 2"
   ]
  },
  {
   "cell_type": "markdown",
   "metadata": {},
   "source": [
    "In Coding Lab 01, we discussed how the sidereal day is shorter than a solar day by 4 minutes. Is it possible for the sidereal day on some planet to be __longer__ than the solar day? Explain. If it's helpful, you may include a diagram of some sort."
   ]
  },
  {
   "cell_type": "code",
   "execution_count": 5,
   "metadata": {},
   "outputs": [],
   "source": [
    "# It is possible. One of the planet's in our solar system experiences this; Venus. This is because Venus' rotation \n",
    "# around its axis is slower than its orbit around the sun. So the time is take's for the sun to be back at some\n",
    "#position (solar day) on Venus is shorter than the time it take for Venus to complete a single rotation around \n",
    "#its axis (sidereal day). \n",
    "\n",
    "#Here's an diagram I made of venus to show that the solar day #2 comes before the sidereal day #3. Imagine a full \n",
    "#orbit before #3 happens.(Note: the degrees value comes from Nasa's Venus data) "
   ]
  },
  {
   "cell_type": "markdown",
   "metadata": {},
   "source": [
    "<div>\n",
    "<img src=\"Venus.png\" width=\"600\">\n",
    "</div>"
   ]
  },
  {
   "cell_type": "markdown",
   "metadata": {},
   "source": [
    "## Question 3"
   ]
  },
  {
   "cell_type": "markdown",
   "metadata": {},
   "source": [
    " Consider the following HR diagram:"
   ]
  },
  {
   "cell_type": "markdown",
   "metadata": {},
   "source": [
    "<div>\n",
    "<img src=\"HR_filled.png\" width=\"400\">\n",
    "</div>"
   ]
  },
  {
   "cell_type": "markdown",
   "metadata": {},
   "source": [
    " The $b$ colour is measured through a filter that permits light to pass through if it is within the wavelength range $300\\,\\textrm{nm} \\lesssim \\lambda \\lesssim 650\\,\\textrm{nm}$. The $r$ (``red\") filter allows light in the range $650\\,\\textrm{nm} \\lesssim \\lambda \\lesssim 1000\\,\\textrm{nm}$ to pass through. The $g$ filter covers both ranges."
   ]
  },
  {
   "cell_type": "markdown",
   "metadata": {},
   "source": [
    "__a)__ Which side (the left side or the right side) of the HR diagrams corresponds to bluer stars?"
   ]
  },
  {
   "cell_type": "code",
   "execution_count": 6,
   "metadata": {},
   "outputs": [],
   "source": [
    "# The left side of the diagram corresponds to the bluer stars. A smaller magnitude corresponds to a hotter star\n",
    "# meaning said star is closer, hence blue-shifted. "
   ]
  },
  {
   "cell_type": "markdown",
   "metadata": {},
   "source": [
    "__b)__ Star $\\#1$ has a $(b-r)$ colour of 3.5, while Star $\\#2$ has a $(b-r)$ colour of 2. Which star has the higher luminosity? What is the ratio of their luminosities?"
   ]
  },
  {
   "cell_type": "code",
   "execution_count": 7,
   "metadata": {},
   "outputs": [
    {
     "name": "stdout",
     "output_type": "stream",
     "text": [
      "Their ratio is 0.10000000000000002\n",
      "Star 2 has a higher luminosity\n"
     ]
    }
   ],
   "source": [
    "## star 1 = 3.5     star 2 = 2 apparent magnitude (m)\n",
    "## From the graph we can find the absolute magnitude (M): star 1= 10, star 2= 7.5\n",
    "# Equations: F = L / 4pid^2, m1-m2 = -2.5log10(F1/F2), m-M = -5+5log10(d)\n",
    "\n",
    "\n",
    "star1 = (3.5, 10)\n",
    "star2 = (2, 7.5)\n",
    "\n",
    "D1 = 10 ** (((star1[0]-star1[1])/5) + 1)\n",
    "D2 = 10 ** (((star2[0]-star2[1])/5) + 1)\n",
    "\n",
    "\n",
    "F1F2 = 10**((star2[0]-star1[0])/2.5)\n",
    "\n",
    "\n",
    "## L1/L2 = (F1*D1^2)/(F2*D2^2)\n",
    "L1L2 = F1F2 * ((D1**2)/(D2**2))\n",
    "\n",
    "print (\"Their ratio is \" +str(L1L2))\n",
    "print (\"Star 2 has a higher luminosity\")\n",
    "\n",
    "\n"
   ]
  },
  {
   "cell_type": "markdown",
   "metadata": {},
   "source": [
    "__c)__ Suppose you see a star with an apparent $g$-band magnitude of 8. The star has $(b-r)$ colour of $1$. How far away is this star?"
   ]
  },
  {
   "cell_type": "code",
   "execution_count": 8,
   "metadata": {},
   "outputs": [
    {
     "name": "stdout",
     "output_type": "stream",
     "text": [
      "The star is 3.9810717055349695e-05 Mpc away\n"
     ]
    }
   ],
   "source": [
    "## m = 8, is (b-r) = 1, using the HR graph, that corresponds to a absolute M magntiude of of 5 \n",
    "## using equation m-M = 25 + 5*log10(D) seen in codinglab02\n",
    "\n",
    "m = 8\n",
    "M = 5\n",
    "\n",
    "D = 10 ** ((m-M-25)/5)\n",
    "\n",
    "print (\"The star is \" +str(D)+ \" Mpc away\")"
   ]
  },
  {
   "cell_type": "markdown",
   "metadata": {},
   "source": [
    "__d)__ In the previous part, were you computing an angular diameter distance or a luminosity distance? Suppose you had computed the other one instead. Would the answer have been very similar, or would it have been quite different?"
   ]
  },
  {
   "cell_type": "code",
   "execution_count": 9,
   "metadata": {},
   "outputs": [],
   "source": [
    "## Above, D corresponded to the luminosity distance. In codinglab02 we saw the luminosity distance is related to \n",
    "# the the angular distance * (1 - redshift)^2. The graph showed that at small distances there aren't much differences\n",
    "## between dl (luminosity distances) and da (angular distances). And since the star above is a short distance\n",
    "## the distances would be very similar. \n",
    "## Codinglab02 plot shown below: "
   ]
  },
  {
   "cell_type": "markdown",
   "metadata": {},
   "source": [
    "<div>\n",
    "<img src=\"plot.png\" width=\"600\">\n",
    "</div>"
   ]
  },
  {
   "cell_type": "markdown",
   "metadata": {},
   "source": [
    "__e)__ What is the redshift at which an object's angular diameter distance and its luminosity distance differ by $10\\%$? How old was our Universe when it emitted the light that we see today? How much smaller or larger was the universe back then compared to now?"
   ]
  },
  {
   "cell_type": "code",
   "execution_count": 10,
   "metadata": {},
   "outputs": [
    {
     "name": "stdout",
     "output_type": "stream",
     "text": [
      "The redshift is 0.04880884817015163\n",
      "The universe was 13.117530106826866 Gyr when it emitted the light we see today\n",
      "The universe was smaller by 0.9534625892455922%\n"
     ]
    }
   ],
   "source": [
    "import numpy as np\n",
    "from astropy.cosmology import Planck15\n",
    "\n",
    "## let Dl = 1.1 Da\n",
    "##In codinglab02 we saw their relationship is: Dl = Da*(1+redshift)^2\n",
    "redshift = np.sqrt(1.1) - 1\n",
    "print(\"The redshift is \" +str(redshift))\n",
    "\n",
    "## Using age method shown in codinglab02\n",
    "age = Planck15.age(redshift)\n",
    "print(\"The universe was \" +str(age)+ \" when it emitted the light we see today\")\n",
    "\n",
    "## relative to size to when now when the redshift = 0 \n",
    "relative = 1/(1+redshift)\n",
    "print (\"The universe was smaller by \" +str(relative)+ \"%\")"
   ]
  },
  {
   "cell_type": "markdown",
   "metadata": {},
   "source": [
    "## Question 4"
   ]
  },
  {
   "cell_type": "markdown",
   "metadata": {},
   "source": [
    "You and your friends are on holiday in southern California, where it doesn’t rain very much: 5 out of 365 days per year. You want to go to the beach tomorrow. Unfortunately, the weather forecast says that it will rain tomorrow. When it actually rains, the forecast is correct 90\\% of the time. When it doesn’t, there is a 10\\% chance that rain is incorrectly predicted by the forecast. What is the probability that it will rain tomorrow, knowing what the weather forecast says?"
   ]
  },
  {
   "cell_type": "code",
   "execution_count": 11,
   "metadata": {},
   "outputs": [
    {
     "name": "stdout",
     "output_type": "stream",
     "text": [
      "The probability that it will rain tomorrow knowing the forecast is 11.11111111111111%\n"
     ]
    }
   ],
   "source": [
    "## we want p(rain|forcast_rain) = p(forcast_rain|rain)p(rain) / p(forcast_rain)\n",
    "\n",
    "# likelihood: p(forcast_rain|rain)\n",
    "like = 0.9\n",
    "\n",
    "#prior: p(rain)\n",
    "prior = 5/365\n",
    "\n",
    "#evidence: p(forcast_rain) has two situations: correct and false prediction. \n",
    "#p(forcast_rain) = p(forcast_rain|rain)p(rain) + p(forcast_rain|no rain)p(no rain)\n",
    "evi = like*prior + 0.1*(1-prior)\n",
    "\n",
    "#All together:\n",
    "rain_correct = (like*prior)/evi\n",
    "percent = rain_correct*100\n",
    "\n",
    "print(\"The probability that it will rain tomorrow knowing the forecast is \" +str(percent)+ \"%\")"
   ]
  },
  {
   "cell_type": "markdown",
   "metadata": {},
   "source": [
    "## Question 5"
   ]
  },
  {
   "cell_type": "markdown",
   "metadata": {},
   "source": [
    "The probability distribution for the speed $v$ of a particle in an ideal gas is given by the _Maxwell-Boltzmann_ distribution:\n",
    "\n",
    "\\begin{equation}\n",
    "4 \\pi \\left(\\frac{m}{2 \\pi k_b T} \\right)^{3/2}  v^2 \\exp \\left( \\frac{-mv^2}{2 k_b T} \\right),\n",
    "\\end{equation}\n",
    "\n",
    "where $k_b$ is Boltzmann's constant, $m$ is the mass of an atom in the gas, and $T$ is the temperature. You can integrate this to confirm that it's correctly normalized if you like! (Incidentally, the wikipedia page on the Maxwell-Boltzmann distribution contains some typos, and a bunch of their expressions are incorrect)."
   ]
  },
  {
   "cell_type": "markdown",
   "metadata": {},
   "source": [
    "__a)__ Suppose we have an ideal gas in the lab. Let's assume that we know what type of gas we have, so the mass is known. To simplify matters, work in units where $m / k_b = 1$. You go into the lab and you make _one_ measurement of velocity (i.e., you measure the speed of _one_ atom). You get $v = 20$ (in our weird units).\n",
    "\n",
    "You'd like to know the temperature of the gas. Prof. Mxyptlk says \"the temperature measures the _average_ kinetic energy of a particle; therefore, with just a single speed measurement we can't know anything about the temperature\". Prove Prof. Mxyptlk wrong by inferring what you can about $T$, the temperature of the gas."
   ]
  },
  {
   "cell_type": "code",
   "execution_count": 67,
   "metadata": {},
   "outputs": [],
   "source": [
    "from scipy import stats\n",
    "from scipy.stats import norm"
   ]
  },
  {
   "cell_type": "code",
   "execution_count": 102,
   "metadata": {},
   "outputs": [
    {
     "name": "stdout",
     "output_type": "stream",
     "text": [
      "Using our knowledge on tempurature and velocity relationships, with some assumptions, we can infer about T with one measurement\n"
     ]
    },
    {
     "data": {
      "image/png": "[encoded data removed]",
      "text/plain": [
       "<Figure size 432x288 with 1 Axes>"
      ]
     },
     "metadata": {
      "needs_background": "light"
     },
     "output_type": "display_data"
    }
   ],
   "source": [
    "import matplotlib.pyplot as plt\n",
    "from sklearn import preprocessing\n",
    "\n",
    "#We know  the relationship between kinetic energy and tempurature: KE = 3/2 kT, where KE = 1/2 *m*v^2\n",
    "# where k=kb seen in the distribution and m = mass of the molecule. This gives us the vecolity-Tempurature relationship\n",
    "# (in this context) of: v^2 = 3T \n",
    "\n",
    "v = 20\n",
    "t = (1/3)*v**2\n",
    "\n",
    "#list of temps from 10 to 400 kelvin \n",
    "T = np.linspace(10, 400, 100)\n",
    "\n",
    "\n",
    "#likelihood\n",
    "def likelihood_max_bolt(v, T):\n",
    "    like = []\n",
    "    \n",
    "    for i in T:\n",
    "        array_element =(v**2)*np.exp(-(v**2)/(2*i))*4*np.pi*(1/(2*np.pi*i))**(3/2)\n",
    "        like.append(array_element)\n",
    "    return like\n",
    "\n",
    "#prior\n",
    "def prior_T(T, mean, std):\n",
    "    prior = []\n",
    "    for i in T:\n",
    "        array_element = (np.exp(-0.5*((i-mean)/std)**2)) * (1/(np.sqrt(2*np.pi)*std))\n",
    "        prior.append(array_element)\n",
    "    return prior\n",
    "\n",
    "#posterior\n",
    "likeT = likelihood_max_bolt(v,T)\n",
    "priorT = prior_T(T, t, 1)\n",
    "posteriorT = np.multiply(likeT,priorT)\n",
    "\n",
    "norm_postT =  preprocessing.normalize([posteriorT])\n",
    "\n",
    "plt.plot(T, norm_postT[0])\n",
    "plt.xlabel('Tempurature (K)')\n",
    "plt.ylabel('Probability')\n",
    "plt.title('Posterior')\n",
    "\n",
    "print(\"Using our knowledge on tempurature and velocity relationships, with some assumptions, we can infer about T with one measurement\")"
   ]
  },
  {
   "cell_type": "markdown",
   "metadata": {},
   "source": [
    "__b)__ What is the 95\\% credibility region for your inferred $T$?"
   ]
  },
  {
   "cell_type": "code",
   "execution_count": 103,
   "metadata": {},
   "outputs": [
    {
     "name": "stdout",
     "output_type": "stream",
     "text": [
      "The credibility region for my inferred T of is: (132.121, 140.0, 140.0)\n"
     ]
    }
   ],
   "source": [
    "# Code from codinglab05 solutions: \n",
    "def get_index(arr,value):\n",
    "    return np.abs(arr-value).argmin()\n",
    "    \n",
    "def get_confidence_interval(posterior,b,lim=0.95):\n",
    "    dx = b[1]-b[0]\n",
    "    cdf = np.cumsum(posterior*dx)\n",
    "    R = lambda x : np.round(x,3)\n",
    "    return R(b[get_index(cdf,(-lim+1.0)/2)]),R(b[get_index(cdf,0.50)]),R(b[get_index(cdf,(lim+1.0)/2)])\n",
    "\n",
    "credible_regionT = get_confidence_interval(posteriorT,T,0.95)\n",
    "\n",
    "print(\"The credibility region for my inferred T of is: \" +str(credible_regionT))\n"
   ]
  },
  {
   "cell_type": "markdown",
   "metadata": {},
   "source": [
    "__c)__ You take a few more measurements: $v=(30, 28.5, 18, 15, 20, 20)$. Update your knowledge of $T$, stating your assumptions."
   ]
  },
  {
   "cell_type": "code",
   "execution_count": 104,
   "metadata": {},
   "outputs": [
    {
     "name": "stdout",
     "output_type": "stream",
     "text": [
      "Here, we are updating our assumptions of T because we have more data now. The mean T is now 164.82142857142853 K. And the standard deviation is now 5.104020024271385 So we can update our prior giving us a posterior with a wider peak. But there is still a clear peak \n"
     ]
    },
    {
     "data": {
      "image/png": "[encoded data removed]",
      "text/plain": [
       "<Figure size 432x288 with 1 Axes>"
      ]
     },
     "metadata": {
      "needs_background": "light"
     },
     "output_type": "display_data"
    }
   ],
   "source": [
    "#We can now know more about our mean and std T value \n",
    "\n",
    "measurements = (20, 30, 28.5, 18, 15, 20, 20) #updating \n",
    "\n",
    "temps = []\n",
    "for i in measurements:\n",
    "    array_element = (1/3)*(i**2)\n",
    "    temps.append(array_element)\n",
    "    \n",
    "mean_temps = np.mean(temps)\n",
    "std_temps = np.std(measurements)\n",
    "\n",
    "np.seterr(divide='ignore', invalid='ignore')\n",
    "prior_update = prior_T(T, mean_temps, std_temps)\n",
    "posterior_update = np.multiply(likeT,prior_update)\n",
    "\n",
    "norm_post_update =  preprocessing.normalize([posterior_update])\n",
    "plt.plot(T, norm_post_update[0])\n",
    "plt.xlabel('Tempurature (K)')\n",
    "plt.ylabel('Probability')\n",
    "plt.title('Updated Posterior')\n",
    "\n",
    "print(\"Here, we are updating our assumptions of T because we have more data now. The mean T is now \" +str(mean_temps)+ \" K. And the standard deviation is now \" +str(std_temps)+ \" So we can update our prior giving us a posterior with a wider peak. But there is still a clear peak\"\" \")"
   ]
  },
  {
   "cell_type": "markdown",
   "metadata": {},
   "source": [
    "__d)__ Prof. Mxyptlk says \"ok, ok, but you had to know the mass of the gas. If you didn't know $m$ separately and had to infer $m$ and $T$ simultaneously, you wouldn't get a nice well-defined peak in your probability distribution for $v$. You'd basically find that any value of $T$ is possible.\" Do you agree with Prof. Mxyptlk?\n",
    "\n",
    "* If you agree, explain why and give an example of a probability distribution where reasonable simultaneous constraints on $v$ and $T$ are still possible (i.e., imagine you have the ability to modify the laws of nature to slightly modify the Maxwell-Boltzmann distribution).\n",
    "* If you disagree, explain why Prof. Mxyptlk is incorrect.\n"
   ]
  },
  {
   "cell_type": "code",
   "execution_count": 15,
   "metadata": {},
   "outputs": [],
   "source": [
    "# I dont think the Prof is right because there are still relationships to obtain tempurture that do not include\n",
    "# mass which can't be ignored, like PV = nRT for example. So not \"any value of T is possible\", there are other \n",
    "# contraints and limits to put on T's distribution. \n",
    " "
   ]
  },
  {
   "cell_type": "markdown",
   "metadata": {},
   "source": [
    "## Question 6"
   ]
  },
  {
   "cell_type": "markdown",
   "metadata": {},
   "source": [
    "Kevin likes dumplings. He goes to inspect a dumpling factory, where they claim that the length of their dumplings $L$ is Gaussian distributed with mean $4\\,\\textrm{cm}$ and a standard deviation of $1\\,\\textrm{cm}$. Kevin randomly selects $10$ dumplings and measures their lengths, obtaining\n",
    "\n",
    "$L = (5.61, 2.22, 3.11, 6.01, 4.79, 3.70, 2.67, 3.90, 3.86, 3.48)\\,\\textrm{cm}$\n",
    "\n"
   ]
  },
  {
   "cell_type": "markdown",
   "metadata": {},
   "source": [
    "__a)__ Use Bayesian inference to infer the posterior distribution for the mean and standard deviation of dumpling size at this factory. Display your results graphically."
   ]
  },
  {
   "cell_type": "code",
   "execution_count": 17,
   "metadata": {},
   "outputs": [
    {
     "data": {
      "text/plain": [
       "Text(0.5, 1.0, 'Posterior')"
      ]
     },
     "execution_count": 17,
     "metadata": {},
     "output_type": "execute_result"
    },
    {
     "data": {
      "image/png": "[encoded data removed]",
      "text/plain": [
       "<Figure size 432x288 with 1 Axes>"
      ]
     },
     "metadata": {
      "needs_background": "light"
     },
     "output_type": "display_data"
    }
   ],
   "source": [
    "L = (5.61,2.22,3.11,6.01,4.79,3.70,2.67,3.90,3.86,3.48)\n",
    "minL = min(L) + 3 #giving room for error\n",
    "maxL = max(L) -3\n",
    "sizes = np.linspace(minL, maxL, 100)\n",
    "\n",
    "#likelihood\n",
    "def likelihood_prob(data, sizes):\n",
    "    like = []\n",
    "    mean = np.mean(data)\n",
    "    std = np.std(data)\n",
    "    \n",
    "    for i in sizes:\n",
    "        array_element = (np.exp(-0.5*((i-mean)/std)**2)) * (1/(np.sqrt(2*np.pi)*std))\n",
    "        like.append(array_element)\n",
    "    return like\n",
    "\n",
    "#prior\n",
    "def prior_prob(factory_mean, factory_std, sizes):\n",
    "    prior = []\n",
    "    \n",
    "    for i in sizes: \n",
    "        array_element = (np.exp(-0.5*((i-factory_mean)/factory_std)**2)) * (1/(np.sqrt(2*np.pi)*factory_std))\n",
    "        prior.append(array_element)\n",
    "    return prior\n",
    "\n",
    "#posterior\n",
    "like = likelihood_prob(L,sizes)\n",
    "prior = prior_prob(4,1,sizes)\n",
    "posterior = np.multiply(like,prior)\n",
    "\n",
    "norm_post =  preprocessing.normalize([posterior])\n",
    "\n",
    "plt.plot(sizes, norm_post[0])\n",
    "plt.xlabel('Dumpling Length (cm)')\n",
    "plt.ylabel('Probability')\n",
    "plt.title('Posterior')"
   ]
  },
  {
   "cell_type": "markdown",
   "metadata": {},
   "source": [
    "__b)__ What Kevin really cares about is consistency. It doesn't really matter to him whether the dumplings are big or small. What's unacceptable to him is a standard deviation that's larger than $1\\,\\textrm{cm}$. Should Kevin be worried? Make your argument in a quantitative manner."
   ]
  },
  {
   "cell_type": "code",
   "execution_count": 43,
   "metadata": {},
   "outputs": [
    {
     "name": "stdout",
     "output_type": "stream",
     "text": [
      "Firstly, from the samples taken above, the standard deviation is larger than 1 cm at: 1.154705590183056 cm. This tells us that yes, Kevin should be worried\n",
      "To further confirm that Kevin should be worried, the confidence interval shows an error higher than 1 cm on both ends of the median. The 95% credible region is:(5.22, 5.22, 5.22). Sorry Kevin\n"
     ]
    }
   ],
   "source": [
    "print(\"Firstly, from the samples taken above, the standard deviation is larger than 1 cm at: \" +str(np.std(L))+ \" cm. This tells us that yes, Kevin should be worried\")\n",
    "\n",
    "## looking into 95% credibility range\n",
    "## from codinglab05 solutions\n",
    "\n",
    "def get_index(arr,value):\n",
    "    return np.abs(arr-value).argmin()\n",
    "    \n",
    "def get_confidence_interval(posterior,b,lim=0.95):\n",
    "    dx = b[1]-b[0]\n",
    "    cdf = np.cumsum(posterior*dx)\n",
    "    R = lambda x : np.round(x,3)\n",
    "    return R(b[get_index(cdf,(-lim+1.0)/2)]),R(b[get_index(cdf,0.50)]),R(b[get_index(cdf,(lim+1.0)/2)])\n",
    "\n",
    "credible_region = get_confidence_interval(norm_post[0],sizes,0.95)\n",
    "\n",
    "\n",
    "\n",
    "print(\"To further confirm that Kevin should be worried, the confidence interval shows an error higher than 1 cm on both ends of the median. The 95% credible region is:\" +str(credible_region)+ \". Sorry Kevin\")"
   ]
  },
  {
   "cell_type": "markdown",
   "metadata": {},
   "source": [
    "## Ungraded question"
   ]
  },
  {
   "cell_type": "markdown",
   "metadata": {},
   "source": [
    "I would like to tailor the last part of the course to your interests. Please fill out [this](https://forms.gle/BFJMx8HEnfQjjbuC9) anonymous survey to help me with that. This is not a graded part of your midterm, but now is just a convenient time to do it."
   ]
  },
  {
   "cell_type": "markdown",
   "metadata": {},
   "source": [
    "## Submission"
   ]
  },
  {
   "cell_type": "markdown",
   "metadata": {},
   "source": [
    "You're done! Do a final git commit, taking care to include everything relevant (e.g., if you have any embedded images). If you decide to revise your answers before the deadline, no problem---just make the changes you want to make and resubmit your work. Push your work to your repo."
   ]
  },
  {
   "cell_type": "code",
   "execution_count": null,
   "metadata": {},
   "outputs": [],
   "source": []
  }
 ],
 "metadata": {
  "kernelspec": {
   "display_name": "Python 3",
   "language": "python",
   "name": "python3"
  },
  "language_info": {
   "codemirror_mode": {
    "name": "ipython",
    "version": 3
   },
   "file_extension": ".py",
   "mimetype": "text/x-python",
   "name": "python",
   "nbconvert_exporter": "python",
   "pygments_lexer": "ipython3",
   "version": "3.8.5"
  }
 },
 "nbformat": 4,
 "nbformat_minor": 4
}
